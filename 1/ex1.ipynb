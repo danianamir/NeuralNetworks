{
  "cells": [
    {
      "cell_type": "code",
      "execution_count": 94,
      "metadata": {
        "id": "F6yQEUIAAFMd"
      },
      "outputs": [],
      "source": [
        "import torch\n",
        "import pandas as pd\n",
        "import numpy as np\n",
        "import matplotlib.pyplot as plt\n",
        "from torch.utils.data import TensorDataset\n",
        "from torch.utils.data import DataLoader, Dataset\n",
        "import torch.nn as nn\n",
        "import torch.optim as optim "
      ]
    },
    {
      "cell_type": "code",
      "execution_count": null,
      "metadata": {
        "id": "L06AQbCFAt0r"
      },
      "outputs": [],
      "source": [
        "df_train = pd.read_csv('/content/drive/MyDrive/Colab Notebooks/emnist-balanced-train.csv')\n",
        "df_test=pd.read_csv('/content/drive/MyDrive/Colab Notebooks/emnist-balanced-test.csv')\n",
        "\n",
        "\n",
        "image_data = df_train.iloc[2, 1:].values.reshape(28, 28)\n",
        "plt.imshow(image_data, cmap='gray')\n",
        "plt.show()"
      ]
    },
    {
      "cell_type": "code",
      "execution_count": 96,
      "metadata": {
        "id": "yUo_QA6gtOgI"
      },
      "outputs": [],
      "source": [
        "x_train=df_train.drop(\"45\",axis=1)\n",
        "y_train=df_train.iloc[:,0].values\n",
        "\n",
        "x_test=df_test.drop(\"41\",axis=1)\n",
        "y_test=df_test.iloc[:,0].values\n",
        "\n",
        "data_train=torch.tensor(x_train.values)\n",
        "lable_train=torch.tensor(y_train)\n",
        "\n",
        "\n",
        "data_test=torch.tensor(x_test.values)\n",
        "lable_test=torch.tensor(y_test)"
      ]
    },
    {
      "cell_type": "code",
      "execution_count": 97,
      "metadata": {
        "id": "5kfSFd2XtPYD"
      },
      "outputs": [],
      "source": [
        "dataset_train=TensorDataset(data_train, lable_train)\n",
        "dataset_test=TensorDataset(data_test, lable_test)"
      ]
    },
    {
      "cell_type": "code",
      "execution_count": 98,
      "metadata": {
        "id": "61SB3IjUtSgj"
      },
      "outputs": [],
      "source": [
        "data_train_loader= DataLoader(dataset_train, batch_size=5, shuffle=True)\n",
        "data_test_loader= DataLoader(dataset_test, batch_size=5, shuffle=True)\n"
      ]
    },
    {
      "cell_type": "code",
      "execution_count": 123,
      "metadata": {
        "id": "1DnQ8lZqtZm6"
      },
      "outputs": [],
      "source": [
        "\n",
        "#3 layer neuralnetwork\n",
        "\n",
        "class Net(nn.Module):\n",
        "    def __init__(self):\n",
        "        super( Net, self).__init__()\n",
        "        self.hidden_layer_1 = nn.Linear(784, 256)\n",
        "        self.hidden_layer_2 = nn.Linear(256, 32)\n",
        "        self.output_layer = nn.Linear(32, 47)\n",
        "        self.activation = nn.Sigmoid()\n",
        "\n",
        "    def forward(self, x):\n",
        "        x = x.to(torch.float32)\n",
        "        x = self.activation(self.hidden_layer_1(x))\n",
        "        x = self.activation(self.hidden_layer_2(x))\n",
        "        x = self.output_layer(x)\n",
        "        return x"
      ]
    },
    {
      "cell_type": "code",
      "source": [
        "\n",
        "#5 layer neural network\n",
        "\n",
        "class Net(nn.Module):\n",
        "    def __init__(self):\n",
        "        super( Net, self).__init__()\n",
        "        self.hidden_layer_1 = nn.Linear(784, 256)\n",
        "        self.hidden_layer_2 = nn.Linear(256, 128)\n",
        "        self.hidden_layer_3 = nn.Linear(128, 64)\n",
        "        self.hidden_layer_4 = nn.Linear(64, 32)\n",
        "        self.output_layer = nn.Linear(32, 47)\n",
        "        self.activation = nn.Sigmoid()\n",
        "\n",
        "    def forward(self, x):\n",
        "        x = x.to(torch.float32)\n",
        "        x = self.activation(self.hidden_layer_1(x))\n",
        "        x = self.activation(self.hidden_layer_2(x))\n",
        "        x = self.activation(self.hidden_layer_3(x))\n",
        "        x = self.activation(self.hidden_layer_4(x))\n",
        "        x = self.output_layer(x)\n",
        "        return x"
      ],
      "metadata": {
        "id": "oE_M9GF-29bJ"
      },
      "execution_count": 120,
      "outputs": []
    },
    {
      "cell_type": "code",
      "source": [
        "# 3 layer neural network with drop out\n",
        "\n",
        "\n",
        "dropout_rate = 0.4\n",
        "class Net(nn.Module):\n",
        "    def __init__(self):\n",
        "        super( Net, self).__init__()\n",
        "        self.hidden_layer_1 = nn.Linear(784, 256)\n",
        "        self.dropout1 = nn.Dropout(dropout_rate)\n",
        "        self.hidden_layer_2 = nn.Linear(256, 32)\n",
        "        self.dropout2 = nn.Dropout(dropout_rate)\n",
        "        self.output_layer = nn.Linear(32, 47)\n",
        "        self.activation = nn.Sigmoid()\n",
        "\n",
        "    def forward(self, x):\n",
        "        x = x.to(torch.float32)\n",
        "        x = self.activation(self.hidden_layer_1(x))\n",
        "        x = self.dropout1(x)\n",
        "        x = self.activation(self.hidden_layer_2(x))\n",
        "        x = self.dropout2(x)\n",
        "        x = self.output_layer(x)\n",
        "        return x"
      ],
      "metadata": {
        "id": "EO-wWU087Lbe"
      },
      "execution_count": 127,
      "outputs": []
    },
    {
      "cell_type": "code",
      "source": [
        " #3 layer neural network with batch normalization\n",
        "\n",
        "\n",
        "\n",
        "class Net(nn.Module):\n",
        "    def __init__(self):\n",
        "        super( Net, self).__init__()\n",
        "        self.hidden_layer_1 = nn.Linear(784, 256)\n",
        "        self.bn1 = nn.BatchNorm1d(256)\n",
        "        self.hidden_layer_2 = nn.Linear(256, 32)\n",
        "        self.bn2 = nn.BatchNorm1d(32)\n",
        "        self.output_layer = nn.Linear(32, 47)\n",
        "        self.activation = nn.Sigmoid()\n",
        "\n",
        "    def forward(self, x):\n",
        "        x = x.to(torch.float32)\n",
        "        x=self.hidden_layer_1(x)\n",
        "        x = self.bn1(x)\n",
        "        x = self.activation(x)\n",
        "        x=self.hidden_layer_2(x)\n",
        "        x = self.bn2(x)\n",
        "        x = self.activation(x)\n",
        "        x = self.output_layer(x)\n",
        "        return x"
      ],
      "metadata": {
        "id": "q-26ForiAE2g"
      },
      "execution_count": 133,
      "outputs": []
    },
    {
      "cell_type": "code",
      "execution_count": 134,
      "metadata": {
        "id": "6tJfI-Rltafa"
      },
      "outputs": [],
      "source": [
        "net=Net()\n",
        "\n",
        "criterion=nn.CrossEntropyLoss()\n",
        "optimizer=optim.SGD(net.parameters(),lr=0.001,momentum=0.9)"
      ]
    },
    {
      "cell_type": "code",
      "source": [
        "device = torch.device('cuda:0' if torch.cuda.is_available() else 'cpu')\n",
        "net.to(device)"
      ],
      "metadata": {
        "id": "HXFpKqlshH0x"
      },
      "execution_count": null,
      "outputs": []
    },
    {
      "cell_type": "code",
      "execution_count": null,
      "metadata": {
        "id": "izP15LVBtcYp"
      },
      "outputs": [],
      "source": [
        "\n",
        "no_epochs = 10\n",
        "for epoch in range(no_epochs):\n",
        "    for i, data in enumerate(data_train_loader, 0):\n",
        "        # get the inputs; data is a list of [inputs, labels]\n",
        "        inputs, labels = data\n",
        "        inputs = inputs.to(device)\n",
        "        labels = labels.to(device)\n",
        "        # zero the parameter gradients\n",
        "        optimizer.zero_grad()\n",
        "\n",
        "        # forward + backward + optimize\n",
        "        outputs = net(inputs)\n",
        "        loss = criterion(outputs, labels)\n",
        "        loss.backward()\n",
        "        optimizer.step()\n",
        "\n",
        "        print(f'epoch:{epoch + 1}, batch: {i+1},  loss: {loss.item()}')"
      ]
    },
    {
      "cell_type": "code",
      "execution_count": null,
      "metadata": {
        "id": "RlRX3373uJUZ"
      },
      "outputs": [],
      "source": [
        "correct = 0\n",
        "total = 0\n",
        "# since we're not training, we don't need to calculate the gradients for our outputs\n",
        "with torch.no_grad():\n",
        "    for data in data_test_loader:\n",
        "        inputs, labels = data\n",
        "        inputs = inputs.to(device)\n",
        "        labels = labels.to(device)\n",
        "        # calculate outputs by running images through the network\n",
        "        outputs = net(inputs)\n",
        "        # the class with the highest energy is what we choose as prediction\n",
        "        _, predicted = torch.max(outputs.data, 1)\n",
        "        total += labels.size(0)\n",
        "        correct += (predicted == labels).sum().item()\n",
        "\n",
        "print(f'Accuracy of the network on the 5 test images: {100 * correct / total} %')"
      ]
    }
  ],
  "metadata": {
    "colab": {
      "provenance": []
    },
    "kernelspec": {
      "display_name": "Python 3",
      "name": "python3"
    },
    "language_info": {
      "name": "python"
    },
    "accelerator": "GPU",
    "gpuClass": "standard"
  },
  "nbformat": 4,
  "nbformat_minor": 0
}